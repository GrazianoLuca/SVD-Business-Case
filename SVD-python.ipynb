{
 "cells": [
  {
   "cell_type": "code",
   "execution_count": 129,
   "id": "a0457904",
   "metadata": {},
   "outputs": [],
   "source": [
    "import os \n",
    "import pandas as pd\n",
    "import numpy as np\n",
    "import math\n",
    "from sklearn.decomposition import TruncatedSVD\n",
    "import matplotlib.pyplot as plt"
   ]
  },
  {
   "cell_type": "code",
   "execution_count": 130,
   "id": "6a4f7b47",
   "metadata": {},
   "outputs": [],
   "source": [
    "cwd = \"C:/Users/Luca/Desktop\"\n",
    "os.chdir(cwd)"
   ]
  },
  {
   "cell_type": "code",
   "execution_count": 131,
   "id": "0226360e",
   "metadata": {},
   "outputs": [
    {
     "data": {
      "text/html": [
       "<div>\n",
       "<style scoped>\n",
       "    .dataframe tbody tr th:only-of-type {\n",
       "        vertical-align: middle;\n",
       "    }\n",
       "\n",
       "    .dataframe tbody tr th {\n",
       "        vertical-align: top;\n",
       "    }\n",
       "\n",
       "    .dataframe thead th {\n",
       "        text-align: right;\n",
       "    }\n",
       "</style>\n",
       "<table border=\"1\" class=\"dataframe\">\n",
       "  <thead>\n",
       "    <tr style=\"text-align: right;\">\n",
       "      <th></th>\n",
       "      <th>Unnamed: 0</th>\n",
       "      <th>m1</th>\n",
       "      <th>m2</th>\n",
       "      <th>m3</th>\n",
       "      <th>m4</th>\n",
       "      <th>m5</th>\n",
       "    </tr>\n",
       "  </thead>\n",
       "  <tbody>\n",
       "    <tr>\n",
       "      <th>0</th>\n",
       "      <td>1</td>\n",
       "      <td>1</td>\n",
       "      <td>0</td>\n",
       "      <td>1</td>\n",
       "      <td>12</td>\n",
       "      <td>8</td>\n",
       "    </tr>\n",
       "    <tr>\n",
       "      <th>1</th>\n",
       "      <td>2</td>\n",
       "      <td>2</td>\n",
       "      <td>1</td>\n",
       "      <td>0</td>\n",
       "      <td>12</td>\n",
       "      <td>11</td>\n",
       "    </tr>\n",
       "    <tr>\n",
       "      <th>2</th>\n",
       "      <td>3</td>\n",
       "      <td>0</td>\n",
       "      <td>1</td>\n",
       "      <td>2</td>\n",
       "      <td>5</td>\n",
       "      <td>11</td>\n",
       "    </tr>\n",
       "    <tr>\n",
       "      <th>3</th>\n",
       "      <td>4</td>\n",
       "      <td>13</td>\n",
       "      <td>10</td>\n",
       "      <td>10</td>\n",
       "      <td>1</td>\n",
       "      <td>3</td>\n",
       "    </tr>\n",
       "    <tr>\n",
       "      <th>4</th>\n",
       "      <td>5</td>\n",
       "      <td>1</td>\n",
       "      <td>0</td>\n",
       "      <td>0</td>\n",
       "      <td>11</td>\n",
       "      <td>11</td>\n",
       "    </tr>\n",
       "  </tbody>\n",
       "</table>\n",
       "</div>"
      ],
      "text/plain": [
       "   Unnamed: 0  m1  m2  m3  m4  m5\n",
       "0           1   1   0   1  12   8\n",
       "1           2   2   1   0  12  11\n",
       "2           3   0   1   2   5  11\n",
       "3           4  13  10  10   1   3\n",
       "4           5   1   0   0  11  11"
      ]
     },
     "execution_count": 131,
     "metadata": {},
     "output_type": "execute_result"
    }
   ],
   "source": [
    "M = pd.read_csv(\"data5.csv\")\n",
    "M.head()"
   ]
  },
  {
   "cell_type": "code",
   "execution_count": 132,
   "id": "cf818f6a",
   "metadata": {},
   "outputs": [
    {
     "data": {
      "text/html": [
       "<div>\n",
       "<style scoped>\n",
       "    .dataframe tbody tr th:only-of-type {\n",
       "        vertical-align: middle;\n",
       "    }\n",
       "\n",
       "    .dataframe tbody tr th {\n",
       "        vertical-align: top;\n",
       "    }\n",
       "\n",
       "    .dataframe thead th {\n",
       "        text-align: right;\n",
       "    }\n",
       "</style>\n",
       "<table border=\"1\" class=\"dataframe\">\n",
       "  <thead>\n",
       "    <tr style=\"text-align: right;\">\n",
       "      <th></th>\n",
       "      <th>m1</th>\n",
       "      <th>m2</th>\n",
       "      <th>m3</th>\n",
       "      <th>m4</th>\n",
       "      <th>m5</th>\n",
       "    </tr>\n",
       "  </thead>\n",
       "  <tbody>\n",
       "    <tr>\n",
       "      <th>0</th>\n",
       "      <td>1</td>\n",
       "      <td>0</td>\n",
       "      <td>1</td>\n",
       "      <td>12</td>\n",
       "      <td>8</td>\n",
       "    </tr>\n",
       "  </tbody>\n",
       "</table>\n",
       "</div>"
      ],
      "text/plain": [
       "   m1  m2  m3  m4  m5\n",
       "0   1   0   1  12   8"
      ]
     },
     "execution_count": 132,
     "metadata": {},
     "output_type": "execute_result"
    }
   ],
   "source": [
    "#Drop first column as it is a repetition of the index\n",
    "M = M.drop([\"Unnamed: 0\"], axis = 1)\n",
    "M.head(1)"
   ]
  },
  {
   "cell_type": "code",
   "execution_count": 133,
   "id": "e14d2495",
   "metadata": {},
   "outputs": [
    {
     "data": {
      "text/plain": [
       "5"
      ]
     },
     "execution_count": 133,
     "metadata": {},
     "output_type": "execute_result"
    }
   ],
   "source": [
    "np.linalg.matrix_rank(M)"
   ]
  },
  {
   "cell_type": "code",
   "execution_count": 145,
   "id": "297635b9",
   "metadata": {},
   "outputs": [],
   "source": [
    "#Compute full svds elements and decompose them\n",
    "SVD = np.linalg.svd(M)\n",
    "U,D,V = pd.DataFrame(SVD[0]), pd.DataFrame(SVD[1]), pd.DataFrame(SVD[2])\n",
    "U.head()\n",
    "U = U.iloc[:, :5]"
   ]
  },
  {
   "cell_type": "code",
   "execution_count": 87,
   "id": "489fc349",
   "metadata": {},
   "outputs": [
    {
     "name": "stdout",
     "output_type": "stream",
     "text": [
      "0.9459298436974727\n"
     ]
    }
   ],
   "source": [
    "#Compute the energy of the matrix\n",
    "tot_ener = sum(D**2)\n",
    "par_ener = sum(D[0:2]**2)\n",
    "\n",
    "#Compute the residual energy\n",
    "res_ener = par_ener/tot_ener\n",
    "print(res_ener)"
   ]
  },
  {
   "cell_type": "code",
   "execution_count": 144,
   "id": "ad21f060",
   "metadata": {},
   "outputs": [
    {
     "name": "stdout",
     "output_type": "stream",
     "text": [
      "[[13.46126803 -4.44857279]\n",
      " [15.64823902 -4.72529361]\n",
      " [11.11602324 -2.85767596]\n",
      " [10.08143811 16.4725139 ]\n",
      " [14.55602481 -5.52621846]\n",
      " [16.70310039 -5.85321445]\n",
      " [ 7.68296854 13.04171728]\n",
      " [13.47225459 -4.45187068]\n",
      " [ 8.14189711 17.2575816 ]\n",
      " [14.60377733 -5.56907454]\n",
      " [ 8.49249823 16.41396791]\n",
      " [13.46482984 -4.44443513]\n",
      " [10.86122513 -3.34049597]\n",
      " [12.59064776 -4.72298179]\n",
      " [ 6.35544659 14.87304917]]\n"
     ]
    }
   ],
   "source": [
    "#We can see that we can drop the three smaller singular values as we retain 94% of the total energy\n",
    "#We can compute the rank 2 svd matrices\n",
    "D2 = D[0:2]\n",
    "V2 = V[0:2]"
   ]
  },
  {
   "cell_type": "code",
   "execution_count": 166,
   "id": "7167f3fd",
   "metadata": {},
   "outputs": [
    {
     "data": {
      "text/html": [
       "<div>\n",
       "<style scoped>\n",
       "    .dataframe tbody tr th:only-of-type {\n",
       "        vertical-align: middle;\n",
       "    }\n",
       "\n",
       "    .dataframe tbody tr th {\n",
       "        vertical-align: top;\n",
       "    }\n",
       "\n",
       "    .dataframe thead th {\n",
       "        text-align: right;\n",
       "    }\n",
       "</style>\n",
       "<table border=\"1\" class=\"dataframe\">\n",
       "  <thead>\n",
       "    <tr style=\"text-align: right;\">\n",
       "      <th></th>\n",
       "      <th>0</th>\n",
       "      <th>1</th>\n",
       "    </tr>\n",
       "  </thead>\n",
       "  <tbody>\n",
       "    <tr>\n",
       "      <th>0</th>\n",
       "      <td>13.461268</td>\n",
       "      <td>4.448573</td>\n",
       "    </tr>\n",
       "    <tr>\n",
       "      <th>1</th>\n",
       "      <td>15.648239</td>\n",
       "      <td>4.725294</td>\n",
       "    </tr>\n",
       "    <tr>\n",
       "      <th>2</th>\n",
       "      <td>11.116023</td>\n",
       "      <td>2.857676</td>\n",
       "    </tr>\n",
       "    <tr>\n",
       "      <th>3</th>\n",
       "      <td>10.081438</td>\n",
       "      <td>16.472514</td>\n",
       "    </tr>\n",
       "    <tr>\n",
       "      <th>4</th>\n",
       "      <td>14.556025</td>\n",
       "      <td>5.526218</td>\n",
       "    </tr>\n",
       "    <tr>\n",
       "      <th>5</th>\n",
       "      <td>16.703100</td>\n",
       "      <td>5.853214</td>\n",
       "    </tr>\n",
       "    <tr>\n",
       "      <th>6</th>\n",
       "      <td>7.682969</td>\n",
       "      <td>13.041717</td>\n",
       "    </tr>\n",
       "    <tr>\n",
       "      <th>7</th>\n",
       "      <td>13.472255</td>\n",
       "      <td>4.451871</td>\n",
       "    </tr>\n",
       "    <tr>\n",
       "      <th>8</th>\n",
       "      <td>8.141897</td>\n",
       "      <td>17.257582</td>\n",
       "    </tr>\n",
       "    <tr>\n",
       "      <th>9</th>\n",
       "      <td>14.603777</td>\n",
       "      <td>5.569075</td>\n",
       "    </tr>\n",
       "    <tr>\n",
       "      <th>10</th>\n",
       "      <td>8.492498</td>\n",
       "      <td>16.413968</td>\n",
       "    </tr>\n",
       "    <tr>\n",
       "      <th>11</th>\n",
       "      <td>13.464830</td>\n",
       "      <td>4.444435</td>\n",
       "    </tr>\n",
       "    <tr>\n",
       "      <th>12</th>\n",
       "      <td>10.861225</td>\n",
       "      <td>3.340496</td>\n",
       "    </tr>\n",
       "    <tr>\n",
       "      <th>13</th>\n",
       "      <td>12.590648</td>\n",
       "      <td>4.722982</td>\n",
       "    </tr>\n",
       "    <tr>\n",
       "      <th>14</th>\n",
       "      <td>6.355447</td>\n",
       "      <td>14.873049</td>\n",
       "    </tr>\n",
       "  </tbody>\n",
       "</table>\n",
       "</div>"
      ],
      "text/plain": [
       "            0          1\n",
       "0   13.461268   4.448573\n",
       "1   15.648239   4.725294\n",
       "2   11.116023   2.857676\n",
       "3   10.081438  16.472514\n",
       "4   14.556025   5.526218\n",
       "5   16.703100   5.853214\n",
       "6    7.682969  13.041717\n",
       "7   13.472255   4.451871\n",
       "8    8.141897  17.257582\n",
       "9   14.603777   5.569075\n",
       "10   8.492498  16.413968\n",
       "11  13.464830   4.444435\n",
       "12  10.861225   3.340496\n",
       "13  12.590648   4.722982\n",
       "14   6.355447  14.873049"
      ]
     },
     "execution_count": 166,
     "metadata": {},
     "output_type": "execute_result"
    }
   ],
   "source": [
    "#let's look for the similarity between all customers by computing the score_users This is the first way to classify users based on their opinions\n",
    "svd = TruncatedSVD(n_components=2)\n",
    "svd.fit(M)\n",
    "score_users = svd.transform(M)\n",
    "abssu = pd.DataFrame(abs(score_users))\n",
    "abssu"
   ]
  },
  {
   "cell_type": "code",
   "execution_count": 167,
   "id": "21104efc",
   "metadata": {},
   "outputs": [
    {
     "data": {
      "text/plain": [
       "<matplotlib.collections.PathCollection at 0x15a48fec5e0>"
      ]
     },
     "execution_count": 167,
     "metadata": {},
     "output_type": "execute_result"
    },
    {
     "data": {
      "image/png": "[encoded data removed]",
      "text/plain": [
       "<Figure size 432x288 with 1 Axes>"
      ]
     },
     "metadata": {
      "needs_background": "light"
     },
     "output_type": "display_data"
    }
   ],
   "source": [
    "#Let's plot the score_users matrix\n",
    "plt.scatter(abssu[0], abssu[1])"
   ]
  }
 ],
 "metadata": {
  "kernelspec": {
   "display_name": "Python 3",
   "language": "python",
   "name": "python3"
  },
  "language_info": {
   "codemirror_mode": {
    "name": "ipython",
    "version": 3
   },
   "file_extension": ".py",
   "mimetype": "text/x-python",
   "name": "python",
   "nbconvert_exporter": "python",
   "pygments_lexer": "ipython3",
   "version": "3.8.8"
  }
 },
 "nbformat": 4,
 "nbformat_minor": 5
}
